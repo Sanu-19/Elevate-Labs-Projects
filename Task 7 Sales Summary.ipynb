{
 "cells": [
  {
   "cell_type": "markdown",
   "id": "8f54305f",
   "metadata": {},
   "source": [
    "# 📘 TASK 7: Basic Sales Summary using Python + SQLite\n",
    "\n",
    "### 🎯 Objective\n",
    "Use SQL inside Python to pull simple sales info (like total quantity sold and total revenue) and display it using basic print statements and a simple bar chart.\n",
    "\n",
    "### 🧰 Tools Used\n",
    "- Python 3\n",
    "- SQLite3 (built into Python)\n",
    "- Pandas\n",
    "- Matplotlib"
   ]
  },
  {
   "cell_type": "markdown",
   "id": "13944863",
   "metadata": {},
   "source": [
    "## 🧩 Step 1: Import Libraries"
   ]
  },
  {
   "cell_type": "code",
   "execution_count": null,
   "id": "c683d9ab",
   "metadata": {},
   "outputs": [],
   "source": [
    "import sqlite3\n",
    "import pandas as pd\n",
    "import matplotlib.pyplot as plt"
   ]
  },
  {
   "cell_type": "markdown",
   "id": "34195bbb",
   "metadata": {},
   "source": [
    "## 🏗️ Step 2: Create SQLite Database and Table"
   ]
  },
  {
   "cell_type": "code",
   "execution_count": null,
   "id": "d2f59492",
   "metadata": {},
   "outputs": [],
   "source": [
    "conn = sqlite3.connect('sales_data.db')\n",
    "cursor = conn.cursor()\n",
    "\n",
    "cursor.execute('DROP TABLE IF EXISTS sales')\n",
    "cursor.execute('''\n",
    "CREATE TABLE sales (\n",
    "    order_id INTEGER,\n",
    "    product TEXT,\n",
    "    quantity INTEGER,\n",
    "    price REAL\n",
    ")\n",
    "''')"
   ]
  },
  {
   "cell_type": "markdown",
   "id": "ef18fc11",
   "metadata": {},
   "source": [
    "## 🧾 Step 3: Insert Sample Data"
   ]
  },
  {
   "cell_type": "code",
   "execution_count": null,
   "id": "e3829292",
   "metadata": {},
   "outputs": [],
   "source": [
    "sample_data = [\n",
    "    (1, 'Laptop', 2, 75000),\n",
    "    (2, 'Smartphone', 5, 20000),\n",
    "    (3, 'Headphones', 10, 1500),\n",
    "    (4, 'Keyboard', 4, 1200),\n",
    "    (5, 'Monitor', 3, 10000),\n",
    "    (6, 'Laptop', 1, 75000),\n",
    "    (7, 'Smartphone', 2, 20000),\n",
    "    (8, 'Headphones', 5, 1500)\n",
    "]\n",
    "\n",
    "cursor.executemany('INSERT INTO sales VALUES (?, ?, ?, ?)', sample_data)\n",
    "conn.commit()"
   ]
  },
  {
   "cell_type": "markdown",
   "id": "5453de85",
   "metadata": {},
   "source": [
    "## 🧮 Step 4: Run SQL Query"
   ]
  },
  {
   "cell_type": "code",
   "execution_count": null,
   "id": "6d4e0ca9",
   "metadata": {},
   "outputs": [],
   "source": [
    "query = '''\n",
    "SELECT \n",
    "    product,\n",
    "    SUM(quantity) AS total_quantity,\n",
    "    SUM(quantity * price) AS total_revenue\n",
    "FROM sales\n",
    "GROUP BY product\n",
    "'''\n",
    "\n",
    "df = pd.read_sql_query(query, conn)"
   ]
  },
  {
   "cell_type": "markdown",
   "id": "c82ee9f3",
   "metadata": {},
   "source": [
    "## 📊 Step 5: Display the Results"
   ]
  },
  {
   "cell_type": "code",
   "execution_count": null,
   "id": "2826b3fb",
   "metadata": {},
   "outputs": [],
   "source": [
    "print('=== Basic Sales Summary ===')\n",
    "print(df)"
   ]
  },
  {
   "cell_type": "markdown",
   "id": "c65d1ba2",
   "metadata": {},
   "source": [
    "## 📈 Step 6: Plot Bar Chart of Revenue by Product"
   ]
  },
  {
   "cell_type": "code",
   "execution_count": null,
   "id": "92373817",
   "metadata": {},
   "outputs": [],
   "source": [
    "plt.figure(figsize=(8,5))\n",
    "plt.bar(df['product'], df['total_revenue'], color='skyblue')\n",
    "plt.xlabel('Product')\n",
    "plt.ylabel('Total Revenue (₹)')\n",
    "plt.title('Revenue by Product')\n",
    "plt.xticks(rotation=45)\n",
    "plt.tight_layout()\n",
    "plt.savefig('sales_chart.png')\n",
    "plt.show()"
   ]
  },
  {
   "cell_type": "markdown",
   "id": "aae6281a",
   "metadata": {},
   "source": [
    "## 🔒 Step 7: Close the Database Connection"
   ]
  },
  {
   "cell_type": "code",
   "execution_count": null,
   "id": "fe15dbfc",
   "metadata": {},
   "outputs": [],
   "source": [
    "conn.close()"
   ]
  },
  {
   "cell_type": "markdown",
   "id": "70345225",
   "metadata": {},
   "source": [
    "## ✅ Outcome\n",
    "You have successfully:\n",
    "- Created a SQLite database and sales table\n",
    "- Wrote and executed SQL queries\n",
    "- Loaded results into pandas\n",
    "- Visualized total revenue by product with matplotlib"
   ]
  }
 ],
 "metadata": {},
 "nbformat": 4,
 "nbformat_minor": 5
}